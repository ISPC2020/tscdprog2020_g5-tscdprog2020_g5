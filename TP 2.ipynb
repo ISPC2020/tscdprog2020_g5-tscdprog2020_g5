{
 "cells": [
  {
   "cell_type": "code",
   "execution_count": 43,
   "id": "986ec1df",
   "metadata": {},
   "outputs": [
    {
     "data": {
      "text/plain": [
       "'#Metodo operar\\n    def operar(self):\\n        #llamamos a los metodos depositar y extraer\\n        self.cliente.depositar()\\n        self.cliente.extraer()\\n        #Actualizamos el diccionario\\n        '"
      ]
     },
     "execution_count": 43,
     "metadata": {},
     "output_type": "execute_result"
    }
   ],
   "source": [
    "class Banco:\n",
    "\n",
    "    #Creamos el constructor de la clase Banco\n",
    "    def __init__(self, cliente):\n",
    "        #Instanciamos al cliente, relación de agregación\n",
    "        self.cliente = cliente\n",
    "\n",
    "\n",
    "    def deposito_total(self):\n",
    "        total = 0\n",
    "            \n",
    "\"\"\"#Metodo operar\n",
    "    def operar(self):\n",
    "        #llamamos a los metodos depositar y extraer\n",
    "        self.cliente.depositar()\n",
    "        self.cliente.extraer()\n",
    "        #Actualizamos el diccionario\n",
    "        \"\"\""
   ]
  },
  {
   "cell_type": "markdown",
   "id": "aa7a6e9c",
   "metadata": {},
   "source": [
    "### Ejercicio 5\n",
    "Realizar una clase que administre una agenda. Se debe almacenar para cada contacto el nombre, el teléfono y el email. Además deberá mostrar un menú con las siguientes opciones\n",
    "\n",
    "    Añadir contacto\n",
    "    Lista de contactos\n",
    "    Buscar contacto\n",
    "    Editar contacto\n",
    "    Cerrar agenda"
   ]
  },
  {
   "cell_type": "code",
   "execution_count": 44,
   "id": "6d486ec3",
   "metadata": {},
   "outputs": [],
   "source": [
    "class Agenda():\n",
    "    \n",
    "    def __init__(self):\n",
    "        self.nombre = input(\"Ingrese el nombre del cliente\")\n",
    "        self.dni = int(input(\"Ingrese el DNI del cliente: \"))\n",
    "        self.telfono = input(\"Ingrese el teléfono del cliente: \")\n",
    "        self.email = input(\"Ingrese el email del cliente: \")\n",
    "        \n",
    "        #Creamos un diccionario para almacenar a los clientes\n",
    "        self.datos_clientes = {}\n",
    "            \n",
    "        "
   ]
  },
  {
   "cell_type": "code",
   "execution_count": 52,
   "id": "686a4c10",
   "metadata": {},
   "outputs": [],
   "source": [
    "#Iniciamos la clase Cliente,\n",
    "class Cliente(Agenda):\n",
    "    \n",
    "    #Constructor de los datos del cliente\n",
    "    def __init__(self):\n",
    "        super().__init__()\n",
    "        self.cantidad = 0\n",
    "        #actualizar el diccionario\n",
    "        self.datos_clientes[self.dni] = [self.nombre, self.cantidad]\n",
    "        \n",
    "    #Metodo depositar\n",
    "    def depositar(self):\n",
    "        #Se ingresa el monto\n",
    "        monto = int(input(\"Ingrese el monto a depositar: \"))\n",
    "        #Se suma a la cantidad que tiene el cliente\n",
    "        self.cantidad += monto\n",
    "        #Se actualiza el diccionario\n",
    "        self.datos_clientes[self.dni] = [self.nombre, self.cantidad]\n",
    "        \n",
    "    \n",
    "    #Metodo extraer\n",
    "    def extraer(self):\n",
    "        #Se ingresa el monto\n",
    "        importe = int(input(\"Ingrese el importe a extraer: \"))\n",
    "        #En caso de que no haya saldo suficiente, mensaje de error\n",
    "        while importe > self.cantidad:\n",
    "            print(f\"Por favor ingrese un monto menor a {self.cantidad}\") \n",
    "            importe = int(input(\"Ingrese el nuevo importe a extraer: \"))\n",
    "        #Si se puede hacer la extracción, le restamos a cantidad\n",
    "        self.cantidad -= importe\n",
    "        self.datos_clientes[self.dni] = [self.nombre, self.cantidad]\n",
    "        \n",
    "    #Metodo para imprimir el total\n",
    "    def mostrar_total(self):\n",
    "        total = self.cantidad\n",
    "        print(\"El saldo de la cuenta es $\", total)"
   ]
  },
  {
   "cell_type": "code",
   "execution_count": 53,
   "id": "299664f6",
   "metadata": {},
   "outputs": [
    {
     "name": "stdout",
     "output_type": "stream",
     "text": [
      "Ingrese el nombre del clienteJuan\n",
      "Ingrese el DNI del cliente: 12\n",
      "Ingrese el teléfono del cliente: 12345\n",
      "Ingrese el email del cliente: sdfg\n",
      "{12: ['Juan', 0]}\n"
     ]
    }
   ],
   "source": [
    "cliente_juan = Cliente()\n",
    "print(cliente_juan.datos_clientes)\n",
    "bco_juan= Banco(cliente_juan)"
   ]
  },
  {
   "cell_type": "code",
   "execution_count": 54,
   "id": "734aab6c",
   "metadata": {},
   "outputs": [
    {
     "name": "stdout",
     "output_type": "stream",
     "text": [
      "Ingrese el monto a depositar: 123\n",
      "Ingrese el importe a extraer: 12\n"
     ]
    }
   ],
   "source": [
    "cliente_juan.depositar()\n",
    "cliente_juan.extraer()"
   ]
  },
  {
   "cell_type": "code",
   "execution_count": 59,
   "id": "f944ad17",
   "metadata": {},
   "outputs": [],
   "source": [
    "    \n",
    "#clase Padre, que será heredada de Caja de Ahorro y Plazo Fijo   \n",
    "class Cuentas:\n",
    "    #;; cargamos así los atributos o volvemos a poner imput?\n",
    "    def __init__(self, titular, cantidad):\n",
    "        self.titular = titular\n",
    "        self.cantidad = cantidad\n",
    "        \n",
    "    def imprimir(self):\n",
    "        print(\"Titular de la Cuenta \", self.titular)\n",
    "        print(\"Saldo de la Cuenta \", self.cantidad)\n",
    "        \n",
    "#clase hija de Cuentas\n",
    "class CajaAhorro(Cuentas):\n",
    "    \n",
    "    #constructor de la clase, hereda el constructor de Cuentas\n",
    "    def __init__(self, titular, cantidad):\n",
    "        super().__init__(titular, cantidad)\n",
    "    \n",
    "    #Método para impirmir los datos de la Caja de Ahorro\n",
    "    def imprimir(self):\n",
    "        print(\"***Caja de Ahorro***\")\n",
    "        super().imprimir()\n",
    "        \n",
    "#Clase hereda de Cuentas\n",
    "class PlazoFijo(Cuentas):\n",
    "    def __init__(self, titular, cantidad, plazo, interes):\n",
    "        super().__init__(titular, cantidad)\n",
    "        self.plazo = plazo\n",
    "        self.interes = interes\n",
    "        \n",
    "    def importe_interes(self):\n",
    "        interes_total = self.cantidad * self.interes / 100\n",
    "        return interes_total\n",
    "    \n",
    "    #Método para impirmir los datos del Plazo Fijo\n",
    "    def imprimir(self):\n",
    "        print(\"***Plazo Fijo***\")\n",
    "        super().imprimir()\n",
    "        print(f\"El plazo es a {self.plazo} días\")\n",
    "        print(f\"Interés: {self.interes}\")\n",
    "        print(f\"El interes total es {self.importe_interes()}\")"
   ]
  },
  {
   "cell_type": "code",
   "execution_count": 51,
   "id": "ec8ec3b5",
   "metadata": {},
   "outputs": [
    {
     "name": "stdout",
     "output_type": "stream",
     "text": [
      "***Plazo Fijo***\n",
      "Titular de la Cuenta  Tatu\n",
      "Saldo de la Cuenta  3\n",
      "El plazo es a 30 días\n",
      "Interés: 20\n",
      "El interes total es 0.6\n"
     ]
    }
   ],
   "source": [
    "cuentas1 = PlazoFijo(\"Tatu\", 3, 30, 20)\n",
    "cuentas1.imprimir()"
   ]
  }
 ],
 "metadata": {
  "kernelspec": {
   "display_name": "Python 3",
   "language": "python",
   "name": "python3"
  },
  "language_info": {
   "codemirror_mode": {
    "name": "ipython",
    "version": 3
   },
   "file_extension": ".py",
   "mimetype": "text/x-python",
   "name": "python",
   "nbconvert_exporter": "python",
   "pygments_lexer": "ipython3",
   "version": "3.8.6"
  }
 },
 "nbformat": 4,
 "nbformat_minor": 5
}
