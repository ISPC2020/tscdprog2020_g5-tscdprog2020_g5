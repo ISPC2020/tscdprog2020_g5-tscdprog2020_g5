{
 "cells": [
  {
   "cell_type": "code",
   "execution_count": 8,
   "metadata": {},
   "outputs": [],
   "source": [
    "class Banco:\n",
    "    \n",
    "    #Creamos el constructor de la clase Banco\n",
    "    def __init__(self, clientes):\n",
    "        self.cantDepositada = 0.00\n",
    "        self.clientes = Clientes(input(\"Ingrese el nombre del cliente: \"))\n",
    "  \n",
    "    def totalDep(self):\n",
    "        for x in range(len(clientes.datos_clientes)):\n",
    "            self.cantDepositada += clientes.totalDepositado\n",
    "            print(\"El total depositado en el Banco es de $\", self.cantDepositada)\n",
    "\n",
    "    \n",
    "class Clientes:\n",
    "    \n",
    "    #Creamos un diccionario para almacenar a los clientes\n",
    "    datos_clientes = {}\n",
    "    \n",
    "    #Contructor de la clase Clientes\n",
    "    def __init__(self):\n",
    "        self.dni = int(input(\"Ingrese el D.N.I. del cliente \"))\n",
    "        #self.telef = int(input(\"Ingrese el teléfono del cliente \"))\n",
    "        #self.email = input(\"Ingrese el e-mail del cliente \")\n",
    "        self.cantidad = 0\n",
    "        self.totalDepositado = 0\n",
    "        datos_clientes[self.dni] = [self.nombre, self.cantidad]\n",
    "        \n",
    "    #Método depositar\n",
    "    def depositar(self):\n",
    "        monto = int(input(\"Ingrese el monto a depositar: \"))\n",
    "        self.cantidad += monto\n",
    "        self.totalDepositado += monto\n",
    "        datos_clientes[self.dni] = [self.nombre, self.cantidad]\n",
    "    \n",
    "    #Método extraer, controlamos que la extracción sea menor al saldo de la cuenta\n",
    "    def extraer(self):\n",
    "        importe = int(input(\"Ingrese el importe a extraer: \"))\n",
    "        while importe >= self.cantidad:\n",
    "            print(\"Ingrese un monto menor a $ \",self.cantidad)\n",
    "            importe = int(input(\"Ingrese el nuevo importe a extraer: \"))\n",
    "        self.cantidad -= importe\n",
    "        datos_clientes[self.dni] = [self.nombre, self.cantidad]\n",
    "        \n",
    "    #Método mostrar Total\n",
    "    def imprimirTotal(self):\n",
    "        total = self.cantidad\n",
    "        print(\"Su saldo actual es de $ \", total)\n",
    "        \n",
    "        \n",
    "    \n",
    "    \n",
    "    \n",
    "#clase Padre, que será heredada de Caja de Ahorro y Plazo Fijo   \n",
    "class Cuentas:\n",
    "    \n",
    "    def __init__(self, titular, cantidad):\n",
    "        self.titular = titular\n",
    "        self.cantidad = cantidad\n",
    "        \n",
    "    def imprimir(self):\n",
    "        print(\"Titular de la Cuenta \", self.titular)\n",
    "        print(\"Saldo de la Cuenta \", self.cantidad)\n",
    "        \n",
    "#clase hija de Cuentas\n",
    "class CajaAhorro(Cuentas):\n",
    "    \n",
    "    #constructor de la clase, hereda el constructor de Cuentas\n",
    "    def __init__(self, titular, cantidad):\n",
    "        super().__init__(titular, cantidad)\n",
    "    \n",
    "    #Método para impirmir los datos de la Caja de Ahorro\n",
    "    def imprimir(self):\n",
    "        print(\"***Caja de Ahorro***\")\n",
    "        super().imprimir()\n",
    "        \n",
    "    \n",
    "        "
   ]
  },
  {
   "cell_type": "code",
   "execution_count": 9,
   "metadata": {},
   "outputs": [
    {
     "ename": "TypeError",
     "evalue": "__init__() missing 1 required positional argument: 'nombre'",
     "output_type": "error",
     "traceback": [
      "\u001b[1;31m---------------------------------------------------------------------------\u001b[0m",
      "\u001b[1;31mTypeError\u001b[0m                                 Traceback (most recent call last)",
      "\u001b[1;32m<ipython-input-9-0ca4db1abc8b>\u001b[0m in \u001b[0;36m<module>\u001b[1;34m\u001b[0m\n\u001b[1;32m----> 1\u001b[1;33m \u001b[0mclientes\u001b[0m \u001b[1;33m=\u001b[0m \u001b[0mClientes\u001b[0m\u001b[1;33m(\u001b[0m\u001b[1;33m)\u001b[0m\u001b[1;33m\u001b[0m\u001b[1;33m\u001b[0m\u001b[0m\n\u001b[0m\u001b[0;32m      2\u001b[0m \u001b[0mbanco\u001b[0m \u001b[1;33m=\u001b[0m \u001b[0mBanco\u001b[0m\u001b[1;33m(\u001b[0m\u001b[0mclientes\u001b[0m\u001b[1;33m)\u001b[0m\u001b[1;33m\u001b[0m\u001b[1;33m\u001b[0m\u001b[0m\n\u001b[0;32m      3\u001b[0m \u001b[0mbanco\u001b[0m\u001b[1;33m.\u001b[0m\u001b[0mclientes\u001b[0m\u001b[1;33m.\u001b[0m\u001b[0mdepositar\u001b[0m\u001b[1;33m(\u001b[0m\u001b[1;33m)\u001b[0m\u001b[1;33m\u001b[0m\u001b[1;33m\u001b[0m\u001b[0m\n\u001b[0;32m      4\u001b[0m \u001b[0mbanco\u001b[0m\u001b[1;33m.\u001b[0m\u001b[0mclientes\u001b[0m\u001b[1;33m.\u001b[0m\u001b[0mextraer\u001b[0m\u001b[1;33m(\u001b[0m\u001b[1;33m)\u001b[0m\u001b[1;33m\u001b[0m\u001b[1;33m\u001b[0m\u001b[0m\n\u001b[0;32m      5\u001b[0m \u001b[0mbanco\u001b[0m\u001b[1;33m.\u001b[0m\u001b[0mtotalDep\u001b[0m\u001b[1;33m(\u001b[0m\u001b[1;33m)\u001b[0m\u001b[1;33m\u001b[0m\u001b[1;33m\u001b[0m\u001b[0m\n",
      "\u001b[1;31mTypeError\u001b[0m: __init__() missing 1 required positional argument: 'nombre'"
     ]
    }
   ],
   "source": [
    "clientes = Clientes()\n",
    "banco = Banco(clientes)\n",
    "banco.clientes.depositar()\n",
    "banco.clientes.extraer()\n",
    "banco.totalDep()"
   ]
  },
  {
   "cell_type": "code",
   "execution_count": 16,
   "metadata": {},
   "outputs": [
    {
     "ename": "NameError",
     "evalue": "name 'datos_clientes' is not defined",
     "output_type": "error",
     "traceback": [
      "\u001b[1;31m---------------------------------------------------------------------------\u001b[0m",
      "\u001b[1;31mNameError\u001b[0m                                 Traceback (most recent call last)",
      "\u001b[1;32m<ipython-input-16-8258d93904aa>\u001b[0m in \u001b[0;36m<module>\u001b[1;34m\u001b[0m\n\u001b[1;32m----> 1\u001b[1;33m \u001b[0mprint\u001b[0m\u001b[1;33m(\u001b[0m\u001b[0mdatos_clientes\u001b[0m\u001b[1;33m)\u001b[0m\u001b[1;33m\u001b[0m\u001b[1;33m\u001b[0m\u001b[0m\n\u001b[0m",
      "\u001b[1;31mNameError\u001b[0m: name 'datos_clientes' is not defined"
     ]
    }
   ],
   "source": [
    "print(datos_clientes)"
   ]
  },
  {
   "cell_type": "code",
   "execution_count": null,
   "metadata": {},
   "outputs": [],
   "source": []
  }
 ],
 "metadata": {
  "kernelspec": {
   "display_name": "Python 3",
   "language": "python",
   "name": "python3"
  },
  "language_info": {
   "codemirror_mode": {
    "name": "ipython",
    "version": 3
   },
   "file_extension": ".py",
   "mimetype": "text/x-python",
   "name": "python",
   "nbconvert_exporter": "python",
   "pygments_lexer": "ipython3",
   "version": "3.8.3"
  }
 },
 "nbformat": 4,
 "nbformat_minor": 4
}
