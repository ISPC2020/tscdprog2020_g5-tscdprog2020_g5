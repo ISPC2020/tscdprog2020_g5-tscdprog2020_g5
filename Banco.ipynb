{
 "cells": [
  {
   "cell_type": "code",
   "execution_count": 3,
   "metadata": {},
   "outputs": [],
   "source": [
    "class Banco:\n",
    "    \n",
    "    #Creamos el constructor de la clase Banco\n",
    "    def __init__(self, clientes):\n",
    "        self.clientes = clientes\n",
    "  \n",
    "    \"\"\" def totalDep(self):\n",
    "        for x in range(len(clientes.datos_clientes)):\n",
    "            self.cantDepositada += clientes.totalDepositado\n",
    "            print(\"El total depositado en el Banco es de $\", self.cantDepositada)\n",
    "    \"\"\"\n",
    "    \n",
    "class Agenda:\n",
    "    \n",
    "    def __init__(self):\n",
    "        self.nombre = input(\"Ingrese el nombre del cliente \")\n",
    "        self.dni = int(input(\"Ingrese el DNI del cliente: \"))\n",
    "        self.telfono = input(\"Ingrese el teléfono del cliente: \")\n",
    "        self.email = input(\"Ingrese el email del cliente: \")\n",
    "        \n",
    "        #Creamos un diccionario para almacenar a los clientes\n",
    "        self.datos_clientes = {}\n",
    "\n",
    "#clase Clientes que hereda de Agenda\n",
    "class Clientes(Agenda):\n",
    "    \n",
    "    #Contructor de la clase Clientes\n",
    "    def __init__(self):\n",
    "        super().__init__()\n",
    "        self.cantidad = 0\n",
    "        self.CajaAhorro = CajaAhorro(self.nombre, self.cantidad)\n",
    "        self.PlazoFijo = PlazoFijo(self.nombre, 0,0,0.0)\n",
    "        #se actualiza el diccionario\n",
    "        self.datos_clientes[self.dni] = [self.nombre, self.cantidad]\n",
    "        \n",
    "    #Método depositar\n",
    "    def depositar(self):\n",
    "        monto = int(input(\"Ingrese el monto a depositar: \"))\n",
    "        #acumula los montos depositados por el cliente\n",
    "        self.cantidad += monto\n",
    "        #se actualiza el diccionario\n",
    "        self.datos_clientes[self.dni] = [self.nombre, self.cantidad]\n",
    "    \n",
    "    #Método extraer, controlamos que la extracción sea menor al saldo de la cuenta\n",
    "    def extraer(self):\n",
    "        importe = int(input(\"Ingrese el importe a extraer $\"))\n",
    "        #el monto a extraer debe ser menor al saldo xq no puede quedar la cuenta en $0\n",
    "        while importe >= self.cantidad:\n",
    "            print(\"Debe ingresar un monto menor a $\",self.cantidad)\n",
    "            importe = int(input(\"Ingrese el nuevo importe a extraer $\"))\n",
    "        #ingresado el monto correcto, se descuenta del saldo de la cuenta del cliente\n",
    "        self.cantidad -= importe\n",
    "        print(\"****Retire su dinero****\")\n",
    "        #se actualiza el diccionario\n",
    "        self.datos_clientes[self.dni] = [self.nombre, self.cantidad]\n",
    "        \n",
    "    #Método mostrar Total\n",
    "    def imprimirTotal(self):\n",
    "        total = self.cantidad\n",
    "        print(\"Su saldo actual es de $\", total)\n",
    "        \n",
    "        "
   ]
  },
  {
   "cell_type": "code",
   "execution_count": 10,
   "metadata": {},
   "outputs": [],
   "source": [
    "#clase Padre, que será heredada de Caja de Ahorro y Plazo Fijo   \n",
    "class Cuentas:\n",
    "    \n",
    "    def __init__(self, titular, cantidad):\n",
    "        self.titular = titular\n",
    "        self.cantidad = cantidad\n",
    "        \n",
    "    def imprimir(self):\n",
    "        print(\"Titular de la Cuenta \", self.titular)\n",
    "        print(\"Saldo de la Cuenta \", self.cantidad)\n",
    "        \n",
    "#clase hija de Cuentas\n",
    "class CajaAhorro(Cuentas):\n",
    "    \n",
    "    #constructor de la clase, hereda el constructor de Cuentas\n",
    "    def __init__(self, titular, cantidad):\n",
    "        super().__init__(titular, cantidad)\n",
    "    \n",
    "    #Método para impirmir los datos de la Caja de Ahorro\n",
    "    def imprimir(self):\n",
    "        print(\"***Caja de Ahorro***\")\n",
    "        super().imprimir()\n",
    "        \n",
    "class PlazoFijo(Cuentas):\n",
    "    #constructor de la clase, hereda el constructor de Cuentas\n",
    "    def __init__(self, titular, cantidad, plazo, interes):\n",
    "        super().__init__(titular, cantidad)\n",
    "        self.plazo = plazo\n",
    "        self.interes = interes\n",
    "        \n",
    "    def importeInteres(self):\n",
    "        interesTotal = self.cantidad * self.interes/100\n",
    "        return interesTotal\n",
    "    \n",
    "    #Método para impirmir los datos del Plazo Fijo\n",
    "    def imprimir(self):\n",
    "        print(\"***Plazo Fijo***\")\n",
    "        super().imprimir()\n",
    "        print(\"El plazo fijo es a \", self.plazo, \"días, con tasa de interés de \", self.interes, \"%\")\n",
    "        print(\"El interés total es de \", self.importeInteres())\n",
    "        \n",
    "            "
   ]
  },
  {
   "cell_type": "code",
   "execution_count": 9,
   "metadata": {},
   "outputs": [
    {
     "name": "stdout",
     "output_type": "stream",
     "text": [
      "Ingrese el nombre del cliente a\n",
      "Ingrese el DNI del cliente: 1\n",
      "Ingrese el teléfono del cliente: 1\n",
      "Ingrese el email del cliente: \n",
      "{1: ['a', 0]}\n",
      "Ingrese el monto a depositar: 123\n",
      "Ingrese el importe a extraer $1\n",
      "****Retire su dinero****\n",
      "Su saldo actual es de $ 122\n",
      "<__main__.CajaAhorro object at 0x7f64142b0160>\n",
      "<__main__.PlazoFijo object at 0x7f64142b01c0>\n"
     ]
    }
   ],
   "source": [
    "cliente = Clientes()\n",
    "print(cliente.datos_clientes)\n",
    "banco = Banco(cliente)\n",
    "cliente.depositar()\n",
    "cliente.extraer()\n",
    "cliente.imprimirTotal()\n"
   ]
  },
  {
   "cell_type": "code",
   "execution_count": 13,
   "metadata": {},
   "outputs": [
    {
     "name": "stdout",
     "output_type": "stream",
     "text": [
      "***Caja de Ahorro***\n",
      "Titular de la Cuenta  a\n",
      "Saldo de la Cuenta  0\n",
      "0.0\n"
     ]
    }
   ],
   "source": [
    "cliente.CajaAhorro.imprimir()\n",
    "print(cliente.PlazoFijo.importeInteres())"
   ]
  }
 ],
 "metadata": {
  "kernelspec": {
   "display_name": "Python 3",
   "language": "python",
   "name": "python3"
  },
  "language_info": {
   "codemirror_mode": {
    "name": "ipython",
    "version": 3
   },
   "file_extension": ".py",
   "mimetype": "text/x-python",
   "name": "python",
   "nbconvert_exporter": "python",
   "pygments_lexer": "ipython3",
   "version": "3.8.6"
  }
 },
 "nbformat": 4,
 "nbformat_minor": 4
}
