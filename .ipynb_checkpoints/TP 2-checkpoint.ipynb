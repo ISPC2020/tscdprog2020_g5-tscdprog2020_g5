{
 "cells": [
  {
   "cell_type": "markdown",
   "id": "b305d1e4",
   "metadata": {},
   "source": [
    "Ejercicio 6\n",
    "Un banco tienen clientes que pueden hacer depósitos y extracciones de dinero. El banco requiere también (por ej. al final del día) calcular la cantidad de dinero que se ha depositado.\n",
    "\n",
    "Se deberán crear dos clases, la clase cliente y la clase banco. La clase cliente tendrá los atributos nombre y cantidad y los métodos init, depositar, extraer, mostrar_total.\n",
    "\n",
    "La clase banco tendrá como atributos 3 objetos de la clase cliente y los métodos init, operar y deposito_total."
   ]
  },
  {
   "cell_type": "code",
   "execution_count": null,
   "id": "4bab0c86",
   "metadata": {},
   "outputs": [],
   "source": [
    "class Car:\n",
    "    def __init__(self, engine):\n",
    "        self.engine = engine\n",
    "\n",
    "class Engine:\n",
    "    def __init__(self):\n",
    "        pass\n",
    "engine = Engine()\n",
    "car = Car(engine) # If I destroy this Car instance,\n",
    "# the Engine instance still exists"
   ]
  },
  {
   "cell_type": "code",
   "execution_count": 34,
   "id": "986ec1df",
   "metadata": {},
   "outputs": [
    {
     "data": {
      "text/plain": [
       "'#Metodo operar\\n    def operar(self):\\n        #llamamos a los metodos depositar y extraer\\n        self.cliente.depositar()\\n        self.cliente.extraer()\\n        #Actualizamos el diccionario\\n        '"
      ]
     },
     "execution_count": 34,
     "metadata": {},
     "output_type": "execute_result"
    }
   ],
   "source": [
    "class Banco:\n",
    "\n",
    "    #Creamos el constructor de la clase Banco\n",
    "    def __init__(self, cliente):\n",
    "        #Instanciamos al cliente\n",
    "        self.cliente = cliente\n",
    "        #self.deposito_total =[] todavia no logro hacerlo :C\n",
    "        print(\"va todo ok\")\n",
    "\n",
    "    def deposito_total(self):\n",
    "        total = 0\n",
    "            \n",
    "\"\"\"#Metodo operar\n",
    "    def operar(self):\n",
    "        #llamamos a los metodos depositar y extraer\n",
    "        self.cliente.depositar()\n",
    "        self.cliente.extraer()\n",
    "        #Actualizamos el diccionario\n",
    "        \"\"\""
   ]
  },
  {
   "cell_type": "markdown",
   "id": "aa7a6e9c",
   "metadata": {},
   "source": [
    "### Ejercicio 5\n",
    "Realizar una clase que administre una agenda. Se debe almacenar para cada contacto el nombre, el teléfono y el email. Además deberá mostrar un menú con las siguientes opciones\n",
    "\n",
    "    Añadir contacto\n",
    "    Lista de contactos\n",
    "    Buscar contacto\n",
    "    Editar contacto\n",
    "    Cerrar agenda"
   ]
  },
  {
   "cell_type": "code",
   "execution_count": 25,
   "id": "6d486ec3",
   "metadata": {},
   "outputs": [
    {
     "ename": "NameError",
     "evalue": "name 'self' is not defined",
     "output_type": "error",
     "traceback": [
      "\u001b[0;31m---------------------------------------------------------------------------\u001b[0m",
      "\u001b[0;31mNameError\u001b[0m                                 Traceback (most recent call last)",
      "\u001b[0;32m<ipython-input-25-5cd81e8a4baf>\u001b[0m in \u001b[0;36m<module>\u001b[0;34m\u001b[0m\n\u001b[0;32m----> 1\u001b[0;31m \u001b[0;32mclass\u001b[0m \u001b[0mAgenda\u001b[0m\u001b[0;34m(\u001b[0m\u001b[0;34m)\u001b[0m\u001b[0;34m:\u001b[0m\u001b[0;34m\u001b[0m\u001b[0;34m\u001b[0m\u001b[0m\n\u001b[0m\u001b[1;32m      2\u001b[0m     \u001b[0;31m#Creamos un diccionario para almacenar a los clientes\u001b[0m\u001b[0;34m\u001b[0m\u001b[0;34m\u001b[0m\u001b[0;34m\u001b[0m\u001b[0m\n\u001b[1;32m      3\u001b[0m     \u001b[0;31m#;;;; no funciona bien si lo ponemos en clase cliente o banco\u001b[0m\u001b[0;34m\u001b[0m\u001b[0;34m\u001b[0m\u001b[0;34m\u001b[0m\u001b[0m\n\u001b[1;32m      4\u001b[0m     \u001b[0mself\u001b[0m\u001b[0;34m.\u001b[0m\u001b[0mdatos_clientes\u001b[0m \u001b[0;34m=\u001b[0m \u001b[0;34m{\u001b[0m\u001b[0;34m}\u001b[0m\u001b[0;34m\u001b[0m\u001b[0;34m\u001b[0m\u001b[0m\n\u001b[1;32m      5\u001b[0m \u001b[0;34m\u001b[0m\u001b[0m\n",
      "\u001b[0;32m<ipython-input-25-5cd81e8a4baf>\u001b[0m in \u001b[0;36mAgenda\u001b[0;34m()\u001b[0m\n\u001b[1;32m      2\u001b[0m     \u001b[0;31m#Creamos un diccionario para almacenar a los clientes\u001b[0m\u001b[0;34m\u001b[0m\u001b[0;34m\u001b[0m\u001b[0;34m\u001b[0m\u001b[0m\n\u001b[1;32m      3\u001b[0m     \u001b[0;31m#;;;; no funciona bien si lo ponemos en clase cliente o banco\u001b[0m\u001b[0;34m\u001b[0m\u001b[0;34m\u001b[0m\u001b[0;34m\u001b[0m\u001b[0m\n\u001b[0;32m----> 4\u001b[0;31m     \u001b[0mself\u001b[0m\u001b[0;34m.\u001b[0m\u001b[0mdatos_clientes\u001b[0m \u001b[0;34m=\u001b[0m \u001b[0;34m{\u001b[0m\u001b[0;34m}\u001b[0m\u001b[0;34m\u001b[0m\u001b[0;34m\u001b[0m\u001b[0m\n\u001b[0m\u001b[1;32m      5\u001b[0m \u001b[0;34m\u001b[0m\u001b[0m\n\u001b[1;32m      6\u001b[0m     \u001b[0;32mdef\u001b[0m \u001b[0m__init__\u001b[0m\u001b[0;34m(\u001b[0m\u001b[0mself\u001b[0m\u001b[0;34m)\u001b[0m\u001b[0;34m:\u001b[0m\u001b[0;34m\u001b[0m\u001b[0;34m\u001b[0m\u001b[0m\n",
      "\u001b[0;31mNameError\u001b[0m: name 'self' is not defined"
     ]
    }
   ],
   "source": [
    "class Agenda():\n",
    "    #Creamos un diccionario para almacenar a los clientes\n",
    "    #;;;; no funciona bien si lo ponemos en clase cliente o banco\n",
    "    \n",
    "    def __init__(self):\n",
    "        self.nombre = input(\"Ingrese el nombre del cliente\")\n",
    "        self.dni = int(input(\"Ingrese el DNI del cliente: \"))\n",
    "        self.telfono = input(\"Ingrese el teléfono del cliente: \")\n",
    "        self.email = input(\"Ingrese el email del cliente: \")\n",
    "        self.datos_clientes = {}\n",
    "            \n",
    "        "
   ]
  },
  {
   "cell_type": "code",
   "execution_count": 29,
   "id": "686a4c10",
   "metadata": {},
   "outputs": [],
   "source": [
    "#Iniciamos la clase Cliente,\n",
    "class Cliente(Agenda):\n",
    "    \n",
    "    #Constructor de los datos del cliente\n",
    "    def __init__(self):\n",
    "        super().__init__()\n",
    "        self.cantidad = 0\n",
    "        #self.nombre = input(\"Ingrese el nombre del cliente\")\n",
    "        #self.dni = int(input(\"Ingrese el DNI del cliente: \"))\n",
    "        #self.telfono = input(\"Ingrese el teléfono del cliente: \")\n",
    "        #self.email = input(\"Ingrese el email del cliente: \")\n",
    "        \n",
    "        #actualizar el diccionario\n",
    "        self.datos_clientes[self.dni] = [self.nombre, self.cantidad]\n",
    "        \n",
    "    #Metodo depositar\n",
    "    def depositar(self):\n",
    "        #Se ingresa el monto\n",
    "        monto = int(input(\"Ingrese el monto a depositar: \"))\n",
    "        #Se suma a la cantidad que tiene el cliente\n",
    "        self.cantidad += monto\n",
    "        #Se actualiza el diccionario\n",
    "        datos_clientes[self.dni] = [self.nombre, self.cantidad]\n",
    "        \n",
    "    \n",
    "    #Metodo extraer\n",
    "    def extraer(self):\n",
    "        #Se ingresa el monto\n",
    "        importe = int(input(\"Ingrese el importe a extraer: \"))\n",
    "        #En caso de que no haya saldo suficiente, mensaje de error\n",
    "        while importe > self.cantidad:\n",
    "            print(f\"Por favor ingrese un monto menor a {self.cantidad}\") \n",
    "            importe = int(input(\"Ingrese el nuevo importe a extraer: \"))\n",
    "        #Si se puede hacer la extracción, la resto a cantidad\n",
    "        self.cantidad -= importe\n",
    "        datos_clientes[self.dni] = [self.nombre, self.cantidad]\n",
    "        \n",
    "    #Metodo para imprimir el total\n",
    "    def mostrar_total(self):\n",
    "        total = self.cantidad\n",
    "        print(\"El saldo de la cuenta es $\", total)"
   ]
  },
  {
   "cell_type": "code",
   "execution_count": 35,
   "id": "299664f6",
   "metadata": {},
   "outputs": [
    {
     "name": "stdout",
     "output_type": "stream",
     "text": [
      "Ingrese el nombre del clienteJuan\n",
      "Ingrese el DNI del cliente: 12\n",
      "Ingrese el teléfono del cliente: sdfg\n",
      "Ingrese el email del cliente: 1234t\n",
      "{34: ['juan', 0], 123: ['Juan', 0], 12: ['Juan', 0]}\n",
      "va todo ok\n"
     ]
    }
   ],
   "source": [
    "cliente_juan = Cliente()\n",
    "print(cliente_juan.datos_clientes)\n",
    "cliente_juan_bco = Banco(cliente_juan)\n",
    "#cliente_juan.cliente.depositar()\n",
    "#cliente_juan.cliente.extraer()"
   ]
  },
  {
   "cell_type": "code",
   "execution_count": 59,
   "id": "734aab6c",
   "metadata": {},
   "outputs": [
    {
     "name": "stdout",
     "output_type": "stream",
     "text": [
      "{567: ['Juan', 81]}\n"
     ]
    }
   ],
   "source": [
    "print (datos_clientes)"
   ]
  },
  {
   "cell_type": "markdown",
   "id": "81f002f2",
   "metadata": {},
   "source": [
    "Desarrollar un programa que conste de una clase padre \"Cuenta\" y dos subclases \"PlazoFijo\" y \"CajaAhorro\". Definir los atributos \"titular\" y \"cantidad\" y un método para \"imprimir\" los datos en la clase Cuenta. La clase \"CajaAhorro\" tendrá un método para heredar los datos y uno para mostrar la información.\n",
    "\n",
    "La clase PlazoFijo tendrá dos atributos propios, \"plazo\" e \"interés\". Tendrá un método para obtener el importe del interés (cantidad*interés/100) y otro método para mostrar la información, datos del titular plazo, interés y total de interés.\n",
    "\n",
    "Crear al menos un objeto de cada subclase."
   ]
  },
  {
   "cell_type": "code",
   "execution_count": 59,
   "id": "f944ad17",
   "metadata": {},
   "outputs": [],
   "source": [
    "    \n",
    "#clase Padre, que será heredada de Caja de Ahorro y Plazo Fijo   \n",
    "class Cuentas:\n",
    "    #;; cargamos así los atributos o volvemos a poner imput?\n",
    "    def __init__(self, titular, cantidad):\n",
    "        self.titular = titular\n",
    "        self.cantidad = cantidad\n",
    "        \n",
    "    def imprimir(self):\n",
    "        print(\"Titular de la Cuenta \", self.titular)\n",
    "        print(\"Saldo de la Cuenta \", self.cantidad)\n",
    "        \n",
    "#clase hija de Cuentas\n",
    "class CajaAhorro(Cuentas):\n",
    "    \n",
    "    #constructor de la clase, hereda el constructor de Cuentas\n",
    "    def __init__(self, titular, cantidad):\n",
    "        super().__init__(titular, cantidad)\n",
    "    \n",
    "    #Método para impirmir los datos de la Caja de Ahorro\n",
    "    def imprimir(self):\n",
    "        print(\"***Caja de Ahorro***\")\n",
    "        super().imprimir()\n",
    "        \n",
    "#Clase hereda de Cuentas\n",
    "class PlazoFijo(Cuentas):\n",
    "    def __init__(self, titular, cantidad, plazo, interes):\n",
    "        super().__init__(titular, cantidad)\n",
    "        self.plazo = plazo\n",
    "        self.interes = interes\n",
    "        \n",
    "    def importe_interes(self):\n",
    "        interes_total = self.cantidad * self.interes / 100\n",
    "        return interes_total\n",
    "    \n",
    "    #Método para impirmir los datos del Plazo Fijo\n",
    "    def imprimir(self):\n",
    "        print(\"***Plazo Fijo***\")\n",
    "        super().imprimir()\n",
    "        print(f\"El plazo es a {self.plazo} días\")\n",
    "        print(f\"Interés: {self.interes}\")\n",
    "        print(f\"El interes total es {self.importe_interes()}\")"
   ]
  },
  {
   "cell_type": "code",
   "execution_count": 51,
   "id": "ec8ec3b5",
   "metadata": {},
   "outputs": [
    {
     "name": "stdout",
     "output_type": "stream",
     "text": [
      "***Plazo Fijo***\n",
      "Titular de la Cuenta  Tatu\n",
      "Saldo de la Cuenta  3\n",
      "El plazo es a 30 días\n",
      "Interés: 20\n",
      "El interes total es 0.6\n"
     ]
    }
   ],
   "source": [
    "cuentas1 = PlazoFijo(\"Tatu\", 3, 30, 20)\n",
    "cuentas1.imprimir()"
   ]
  },
  {
   "cell_type": "code",
   "execution_count": 23,
   "id": "05130f98",
   "metadata": {},
   "outputs": [
    {
     "name": "stdout",
     "output_type": "stream",
     "text": [
      "Ingrese el nombre: Juan\n",
      "esto es Juan\n"
     ]
    }
   ],
   "source": [
    "class Prueba:\n",
    "    def __init__(self):\n",
    "        self.nombre = input(\"Ingrese el nombre: \")\n",
    "        print(\"esto es\", self.nombre)\n",
    "        \n",
    "prue1 = Prueba()"
   ]
  },
  {
   "cell_type": "code",
   "execution_count": null,
   "id": "5d61652f",
   "metadata": {},
   "outputs": [],
   "source": []
  }
 ],
 "metadata": {
  "kernelspec": {
   "display_name": "Python 3",
   "language": "python",
   "name": "python3"
  },
  "language_info": {
   "codemirror_mode": {
    "name": "ipython",
    "version": 3
   },
   "file_extension": ".py",
   "mimetype": "text/x-python",
   "name": "python",
   "nbconvert_exporter": "python",
   "pygments_lexer": "ipython3",
   "version": "3.8.6"
  }
 },
 "nbformat": 4,
 "nbformat_minor": 5
}
